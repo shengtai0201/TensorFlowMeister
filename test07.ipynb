{
 "metadata": {
  "language_info": {
   "codemirror_mode": {
    "name": "ipython",
    "version": 3
   },
   "file_extension": ".py",
   "mimetype": "text/x-python",
   "name": "python",
   "nbconvert_exporter": "python",
   "pygments_lexer": "ipython3",
   "version": "3.7.9-final"
  },
  "orig_nbformat": 2,
  "kernelspec": {
   "name": "python3",
   "display_name": "Python 3.7.9 64-bit ('tf': conda)",
   "metadata": {
    "interpreter": {
     "hash": "381ad78600b0f6139d0ae7ac9cdbbcb8374a07bc1f0a0957528f0a73243bf45e"
    }
   }
  }
 },
 "nbformat": 4,
 "nbformat_minor": 2,
 "cells": [
  {
   "cell_type": "code",
   "execution_count": 2,
   "metadata": {},
   "outputs": [
    {
     "output_type": "stream",
     "name": "stdout",
     "text": [
      "2.1.0\n2.2.4-tf\n"
     ]
    }
   ],
   "source": [
    "import tensorflow as tf\n",
    "from tensorflow.keras import layers\n",
    "print(tf.__version__)\n",
    "print(tf.keras.__version__)"
   ]
  },
  {
   "cell_type": "code",
   "execution_count": 5,
   "metadata": {},
   "outputs": [],
   "source": [
    "model = tf.keras.Sequential()\n",
    "model.add(layers.Dense(32, activation='relu'))\n",
    "model.add(layers.Dense(32, activation='relu'))\n",
    "model.add(layers.Dense(10, activation='softmax'))\n",
    "model.compile(optimizer=tf.keras.optimizers.Adam(0.001),loss=tf.keras.losses.categorical_crossentropy,metrics=[tf.keras.metrics.categorical_accuracy])"
   ]
  },
  {
   "cell_type": "code",
   "execution_count": 6,
   "metadata": {},
   "outputs": [
    {
     "output_type": "stream",
     "name": "stdout",
     "text": [
      "Train on 1000 samples, validate on 200 samples\n",
      "Epoch 1/10\n",
      "1000/1000 [==============================] - 1s 637us/sample - loss: 12.2876 - categorical_accuracy: 0.1050 - val_loss: 12.6430 - val_categorical_accuracy: 0.0750\n",
      "Epoch 2/10\n",
      "1000/1000 [==============================] - 0s 24us/sample - loss: 12.4473 - categorical_accuracy: 0.0920 - val_loss: 13.1497 - val_categorical_accuracy: 0.0750\n",
      "Epoch 3/10\n",
      "1000/1000 [==============================] - 0s 25us/sample - loss: 13.2043 - categorical_accuracy: 0.0960 - val_loss: 14.3351 - val_categorical_accuracy: 0.0750\n",
      "Epoch 4/10\n",
      "1000/1000 [==============================] - 0s 25us/sample - loss: 14.8354 - categorical_accuracy: 0.0960 - val_loss: 16.7699 - val_categorical_accuracy: 0.0750\n",
      "Epoch 5/10\n",
      "1000/1000 [==============================] - 0s 24us/sample - loss: 17.7318 - categorical_accuracy: 0.0960 - val_loss: 20.0694 - val_categorical_accuracy: 0.0750\n",
      "Epoch 6/10\n",
      "1000/1000 [==============================] - 0s 24us/sample - loss: 21.0730 - categorical_accuracy: 0.0950 - val_loss: 23.9215 - val_categorical_accuracy: 0.0650\n",
      "Epoch 7/10\n",
      "1000/1000 [==============================] - 0s 24us/sample - loss: 25.8335 - categorical_accuracy: 0.1000 - val_loss: 30.1543 - val_categorical_accuracy: 0.0800\n",
      "Epoch 8/10\n",
      "1000/1000 [==============================] - 0s 30us/sample - loss: 32.9357 - categorical_accuracy: 0.1040 - val_loss: 38.5232 - val_categorical_accuracy: 0.0800\n",
      "Epoch 9/10\n",
      "1000/1000 [==============================] - 0s 28us/sample - loss: 41.7069 - categorical_accuracy: 0.1000 - val_loss: 48.3977 - val_categorical_accuracy: 0.0850\n",
      "Epoch 10/10\n",
      "1000/1000 [==============================] - 0s 29us/sample - loss: 52.3157 - categorical_accuracy: 0.0990 - val_loss: 60.3431 - val_categorical_accuracy: 0.0850\n"
     ]
    },
    {
     "output_type": "execute_result",
     "data": {
      "text/plain": [
       "<tensorflow.python.keras.callbacks.History at 0x2071d1c7288>"
      ]
     },
     "metadata": {},
     "execution_count": 6
    }
   ],
   "source": [
    "import numpy as np\n",
    "train_x = np.random.random((1000, 72))\n",
    "train_y = np.random.random((1000, 10))\n",
    "val_x = np.random.random((200, 72))\n",
    "val_y = np.random.random((200, 10))\n",
    "model.fit(train_x, train_y, epochs=10, batch_size=100, validation_data=(val_x, val_y))"
   ]
  },
  {
   "cell_type": "code",
   "execution_count": null,
   "metadata": {},
   "outputs": [],
   "source": []
  }
 ]
}