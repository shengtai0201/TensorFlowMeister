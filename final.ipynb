{
 "metadata": {
  "language_info": {
   "codemirror_mode": {
    "name": "ipython",
    "version": 3
   },
   "file_extension": ".py",
   "mimetype": "text/x-python",
   "name": "python",
   "nbconvert_exporter": "python",
   "pygments_lexer": "ipython3",
   "version": "3.8.5-final"
  },
  "orig_nbformat": 2,
  "kernelspec": {
   "name": "python3",
   "display_name": "Python 3.8.5 64-bit ('tf': conda)",
   "metadata": {
    "interpreter": {
     "hash": "143e787ec9c0edf7f15cb93160417a8c3f9c674469178e2288ca5aba796baeed"
    }
   }
  }
 },
 "nbformat": 4,
 "nbformat_minor": 2,
 "cells": [
  {
   "cell_type": "code",
   "execution_count": 1,
   "metadata": {},
   "outputs": [],
   "source": [
    "# 資料預處理\n",
    "import numpy as np\n",
    "np.random.seed(10)\n",
    "\n",
    "from tensorflow.keras.datasets import mnist\n",
    "(x_train, y_train), (x_test, y_test) = mnist.load_data()\n",
    "\n",
    "x_train = x_train.reshape(x_train.shape[0], 28, 28, 1).astype('float32')\n",
    "x_test = x_test.reshape(x_test.shape[0], 28, 28, 1).astype('float32')\n",
    "\n",
    "x_train /= 255.0\n",
    "x_test /= 255.0\n",
    "\n",
    "import tensorflow as tf\n",
    "y_train_one_hot = tf.one_hot(y_train, np.max(y_train) + 1)\n",
    "y_test_one_hot = tf.one_hot(y_test, np.max(y_test) + 1)"
   ]
  },
  {
   "cell_type": "code",
   "execution_count": 2,
   "metadata": {},
   "outputs": [
    {
     "output_type": "stream",
     "name": "stdout",
     "text": [
      "Model: \"sequential\"\n_________________________________________________________________\nLayer (type)                 Output Shape              Param #   \n=================================================================\nconv2d (Conv2D)              (None, 28, 28, 16)        416       \n_________________________________________________________________\nmax_pooling2d (MaxPooling2D) (None, 14, 14, 16)        0         \n_________________________________________________________________\nconv2d_1 (Conv2D)            (None, 14, 14, 36)        14436     \n_________________________________________________________________\nmax_pooling2d_1 (MaxPooling2 (None, 7, 7, 36)          0         \n_________________________________________________________________\ndropout (Dropout)            (None, 7, 7, 36)          0         \n_________________________________________________________________\nflatten (Flatten)            (None, 1764)              0         \n_________________________________________________________________\ndense (Dense)                (None, 128)               225920    \n_________________________________________________________________\ndropout_1 (Dropout)          (None, 128)               0         \n_________________________________________________________________\ndense_1 (Dense)              (None, 10)                1290      \n=================================================================\nTotal params: 242,062\nTrainable params: 242,062\nNon-trainable params: 0\n_________________________________________________________________\nNone\n"
     ]
    }
   ],
   "source": [
    "# 建立模型\n",
    "from tensorflow.keras import Sequential\n",
    "model = Sequential()\n",
    "\n",
    "from tensorflow.keras import layers\n",
    "model.add(layers.Conv2D(filters=16, kernel_size=(5, 5), padding='same', input_shape=(28, 28, 1), activation='relu'))\n",
    "model.add(layers.MaxPool2D(pool_size=(2, 2)))\n",
    "model.add(layers.Conv2D(filters=36, kernel_size=(5, 5), padding='same', activation='relu'))\n",
    "model.add(layers.MaxPool2D(pool_size=(2, 2)))\n",
    "model.add(layers.Dropout(0.25))\n",
    "\n",
    "model.add(layers.Flatten())\n",
    "model.add(layers.Dense(128, activation='relu'))\n",
    "model.add(layers.Dropout(0.5))\n",
    "model.add(layers.Dense(10, activation='softmax'))\n",
    "\n",
    "print(model.summary())"
   ]
  },
  {
   "cell_type": "code",
   "execution_count": 4,
   "metadata": {},
   "outputs": [
    {
     "output_type": "stream",
     "name": "stdout",
     "text": [
      "Epoch 1/10\n",
      "160/160 - 24s - loss: 0.4850 - accuracy: 0.8505 - val_loss: 0.0986 - val_accuracy: 0.9718\n",
      "Epoch 2/10\n",
      "160/160 - 23s - loss: 0.1354 - accuracy: 0.9599 - val_loss: 0.0675 - val_accuracy: 0.9797\n",
      "Epoch 3/10\n",
      "160/160 - 23s - loss: 0.1008 - accuracy: 0.9694 - val_loss: 0.0548 - val_accuracy: 0.9838\n",
      "Epoch 4/10\n",
      "160/160 - 23s - loss: 0.0793 - accuracy: 0.9750 - val_loss: 0.0460 - val_accuracy: 0.9863\n",
      "Epoch 5/10\n",
      "160/160 - 23s - loss: 0.0689 - accuracy: 0.9788 - val_loss: 0.0418 - val_accuracy: 0.9877\n",
      "Epoch 6/10\n",
      "160/160 - 23s - loss: 0.0600 - accuracy: 0.9819 - val_loss: 0.0385 - val_accuracy: 0.9890\n",
      "Epoch 7/10\n",
      "160/160 - 23s - loss: 0.0542 - accuracy: 0.9837 - val_loss: 0.0379 - val_accuracy: 0.9892\n",
      "Epoch 8/10\n",
      "160/160 - 23s - loss: 0.0478 - accuracy: 0.9852 - val_loss: 0.0391 - val_accuracy: 0.9892\n",
      "Epoch 9/10\n",
      "160/160 - 22s - loss: 0.0429 - accuracy: 0.9866 - val_loss: 0.0336 - val_accuracy: 0.9906\n",
      "Epoch 10/10\n",
      "160/160 - 23s - loss: 0.0393 - accuracy: 0.9877 - val_loss: 0.0329 - val_accuracy: 0.9907\n"
     ]
    }
   ],
   "source": [
    "# 訓練模型\n",
    "model.compile(optimizer='adam', loss='categorical_crossentropy', metrics=['accuracy'])\n",
    "train_history = model.fit(x=x_train, y=y_train_one_hot, batch_size=300, epochs=10, verbose=2, validation_split=0.2)\n",
    "\n",
    "# 評估模型準確率\n",
    "# 進行預測"
   ]
  },
  {
   "cell_type": "code",
   "execution_count": 6,
   "metadata": {},
   "outputs": [
    {
     "output_type": "error",
     "ename": "AttributeError",
     "evalue": "module 'tensorflow.keras' has no attribute 'show_train_history'",
     "traceback": [
      "\u001b[1;31m---------------------------------------------------------------------------\u001b[0m",
      "\u001b[1;31mAttributeError\u001b[0m                            Traceback (most recent call last)",
      "\u001b[1;32m<ipython-input-6-5f0004871b92>\u001b[0m in \u001b[0;36m<module>\u001b[1;34m\u001b[0m\n\u001b[1;32m----> 1\u001b[1;33m \u001b[0mtf\u001b[0m\u001b[1;33m.\u001b[0m\u001b[0mkeras\u001b[0m\u001b[1;33m.\u001b[0m\u001b[0mshow_train_history\u001b[0m\u001b[1;33m(\u001b[0m\u001b[1;34m'accuracy'\u001b[0m\u001b[1;33m,\u001b[0m \u001b[1;34m'val_accuracy'\u001b[0m\u001b[1;33m)\u001b[0m\u001b[1;33m\u001b[0m\u001b[1;33m\u001b[0m\u001b[0m\n\u001b[0m",
      "\u001b[1;31mAttributeError\u001b[0m: module 'tensorflow.keras' has no attribute 'show_train_history'"
     ]
    }
   ],
   "source": [
    "tf.keras.show_train_history('accuracy', 'val_accuracy')"
   ]
  },
  {
   "cell_type": "code",
   "execution_count": null,
   "metadata": {},
   "outputs": [],
   "source": []
  }
 ]
}