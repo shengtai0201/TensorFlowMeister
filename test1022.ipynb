{
 "metadata": {
  "language_info": {
   "codemirror_mode": {
    "name": "ipython",
    "version": 3
   },
   "file_extension": ".py",
   "mimetype": "text/x-python",
   "name": "python",
   "nbconvert_exporter": "python",
   "pygments_lexer": "ipython3",
   "version": "3.7.9-final"
  },
  "orig_nbformat": 2,
  "kernelspec": {
   "name": "Python 3.7.9 64-bit ('tf': conda)",
   "display_name": "Python 3.7.9 64-bit ('tf': conda)",
   "metadata": {
    "interpreter": {
     "hash": "7044b324f88c4208d441c8fce3c8f6c454026eeaf7e810a2852062e3590255dc"
    }
   }
  }
 },
 "nbformat": 4,
 "nbformat_minor": 2,
 "cells": [
  {
   "cell_type": "code",
   "execution_count": 1,
   "metadata": {},
   "outputs": [
    {
     "output_type": "stream",
     "name": "stdout",
     "text": [
      "tf.Tensor([1 2 3], shape=(3,), dtype=int32)\n"
     ]
    }
   ],
   "source": [
    "# 佔位符\n",
    "import tensorflow as tf\n",
    "import numpy as np\n",
    "t1 = np.array([1, 2, 3])\n",
    "t2 = tf.convert_to_tensor(t1)\n",
    "print(t2)"
   ]
  },
  {
   "cell_type": "code",
   "execution_count": 2,
   "metadata": {},
   "outputs": [
    {
     "output_type": "stream",
     "name": "stdout",
     "text": [
      "tf.Tensor(\n[[0 0 0]\n [0 0 0]], shape=(2, 3), dtype=int32)\n"
     ]
    }
   ],
   "source": [
    "t3 = tf.zeros([2, 3], tf.int32)\n",
    "print(t3)"
   ]
  },
  {
   "cell_type": "code",
   "execution_count": 3,
   "metadata": {},
   "outputs": [
    {
     "output_type": "stream",
     "name": "stdout",
     "text": [
      "tf.Tensor(\n[[ True  True  True]\n [ True  True  True]], shape=(2, 3), dtype=bool)\n"
     ]
    }
   ],
   "source": [
    "t4 = tf.ones([2, 3], tf.bool)\n",
    "print(t4)"
   ]
  },
  {
   "cell_type": "code",
   "execution_count": 4,
   "metadata": {},
   "outputs": [
    {
     "output_type": "stream",
     "name": "stdout",
     "text": [
      "tf.Tensor([2.   2.75 3.5  4.25 5.  ], shape=(5,), dtype=float32)\n"
     ]
    }
   ],
   "source": [
    "t5 = tf.linspace(2.0, 5, 5)\n",
    "print(t5)"
   ]
  },
  {
   "cell_type": "code",
   "execution_count": 5,
   "metadata": {},
   "outputs": [
    {
     "output_type": "stream",
     "name": "stdout",
     "text": [
      "<tf.Variable 'Q_Q:0' shape=(7,) dtype=float32, numpy=array([1., 1., 1., 1., 1., 1., 1.], dtype=float32)>\n"
     ]
    }
   ],
   "source": [
    "t6 = tf.ones(7)\n",
    "t7 = tf.Variable(t6, name='Q_Q')\n",
    "print(t7)"
   ]
  },
  {
   "cell_type": "code",
   "execution_count": 6,
   "metadata": {},
   "outputs": [
    {
     "output_type": "stream",
     "name": "stdout",
     "text": [
      "True\n"
     ]
    }
   ],
   "source": [
    "print(t7.trainable)"
   ]
  },
  {
   "cell_type": "code",
   "execution_count": 7,
   "metadata": {},
   "outputs": [
    {
     "output_type": "stream",
     "name": "stdout",
     "text": [
      "tf.Tensor(\n[[0 0 0 0 0 0]\n [0 0 0 0 0 0]\n [0 0 0 0 0 0]\n [0 0 0 0 0 0]\n [0 0 0 0 0 0]\n [0 0 0 0 0 0]], shape=(6, 6), dtype=int32)\n"
     ]
    }
   ],
   "source": [
    "t8 = tf.zeros([6, 6], tf.int32)\n",
    "print(t8)"
   ]
  },
  {
   "cell_type": "code",
   "execution_count": 8,
   "metadata": {},
   "outputs": [
    {
     "output_type": "stream",
     "name": "stdout",
     "text": [
      "tf.Tensor(\n[[ 0.25347447  5.37991     1.9527606 ]\n [-1.5376031   1.2588985   2.8478067 ]], shape=(2, 3), dtype=float32)\n"
     ]
    }
   ],
   "source": [
    "t9 = tf.random.normal([2, 3], mean=2, stddev=4, seed=12)\n",
    "print(t9)"
   ]
  },
  {
   "cell_type": "code",
   "execution_count": 9,
   "metadata": {},
   "outputs": [
    {
     "output_type": "stream",
     "name": "stdout",
     "text": [
      "tf.Tensor([[-0.87326276  1.689955   -0.02361972 -1.7688016  -3.87749   ]], shape=(1, 5), dtype=float32)\n"
     ]
    }
   ],
   "source": [
    "t10 = tf.random.truncated_normal([1, 5], stddev=2, seed=12)\n",
    "print(t10)"
   ]
  },
  {
   "cell_type": "code",
   "execution_count": 10,
   "metadata": {},
   "outputs": [
    {
     "output_type": "stream",
     "name": "stdout",
     "text": [
      "tf.Tensor(\n[[2.54461   3.6963658 2.7051091]\n [2.0085006 3.8445983 3.5426888]], shape=(2, 3), dtype=float32)\n"
     ]
    }
   ],
   "source": [
    "print(tf.random.uniform([2, 3], maxval=4, seed=12))"
   ]
  },
  {
   "cell_type": "code",
   "execution_count": 11,
   "metadata": {},
   "outputs": [
    {
     "output_type": "stream",
     "name": "stdout",
     "text": [
      "tf.Tensor([0 1 2 3 4 5 6 7 8 9], shape=(10,), dtype=int32)\ntf.Tensor([2 3 4 5 6 7 8 9], shape=(8,), dtype=int32)\ntf.Tensor([2 4 6 8], shape=(4,), dtype=int32)\n"
     ]
    }
   ],
   "source": [
    "print(tf.range(10))\n",
    "print(tf.range(2, 10))\n",
    "print(tf.range(2, 10, 2))"
   ]
  },
  {
   "cell_type": "code",
   "execution_count": 15,
   "metadata": {},
   "outputs": [
    {
     "output_type": "execute_result",
     "data": {
      "text/plain": [
       "True"
      ]
     },
     "metadata": {},
     "execution_count": 15
    }
   ],
   "source": [
    "tf.Variable(tf.ones(6), name='test').trainable"
   ]
  },
  {
   "cell_type": "code",
   "execution_count": 29,
   "metadata": {},
   "outputs": [
    {
     "output_type": "stream",
     "name": "stdout",
     "text": [
      "tf.Tensor(\n[[0 0 0]\n [0 0 0]], shape=(2, 3), dtype=int64)\ntf.Tensor(\n[[0 0 0 0 0 0]\n [0 0 0 0 0 0]\n [0 0 0 0 0 0]\n [0 0 0 0 0 0]\n [0 0 0 0 0 0]\n [0 0 0 0 0 0]], shape=(6, 6), dtype=int32)\n"
     ]
    }
   ],
   "source": [
    "t11 = tf.zeros([2, 3], tf.int64)\n",
    "t12 = tf.zeros_like(t11)\n",
    "print(t12)\n",
    "t13 = tf.fill([6, 6], 0)\n",
    "print(t13)"
   ]
  },
  {
   "cell_type": "code",
   "execution_count": null,
   "metadata": {},
   "outputs": [],
   "source": []
  }
 ]
}