{
 "metadata": {
  "language_info": {
   "codemirror_mode": {
    "name": "ipython",
    "version": 3
   },
   "file_extension": ".py",
   "mimetype": "text/x-python",
   "name": "python",
   "nbconvert_exporter": "python",
   "pygments_lexer": "ipython3",
   "version": "3.7.9-final"
  },
  "orig_nbformat": 2,
  "kernelspec": {
   "name": "Python 3.7.9 64-bit ('tf': conda)",
   "display_name": "Python 3.7.9 64-bit ('tf': conda)",
   "metadata": {
    "interpreter": {
     "hash": "7044b324f88c4208d441c8fce3c8f6c454026eeaf7e810a2852062e3590255dc"
    }
   }
  }
 },
 "nbformat": 4,
 "nbformat_minor": 2,
 "cells": [
  {
   "cell_type": "code",
   "execution_count": 2,
   "metadata": {},
   "outputs": [],
   "source": [
    "try:\n",
    "    %tensorflow_version 2.x\n",
    "except Exception:\n",
    "    pass"
   ]
  },
  {
   "cell_type": "code",
   "execution_count": 3,
   "metadata": {},
   "outputs": [
    {
     "output_type": "execute_result",
     "data": {
      "text/plain": [
       "'2.1.0'"
      ]
     },
     "metadata": {},
     "execution_count": 3
    }
   ],
   "source": [
    "import tensorflow as tf\n",
    "tf.__version__"
   ]
  },
  {
   "cell_type": "code",
   "execution_count": 4,
   "metadata": {},
   "outputs": [
    {
     "output_type": "stream",
     "name": "stdout",
     "text": [
      "tf.Tensor(4, shape=(), dtype=int32)\n"
     ]
    }
   ],
   "source": [
    "t1 = tf.constant(4)\n",
    "print(t1)"
   ]
  },
  {
   "cell_type": "code",
   "execution_count": 5,
   "metadata": {},
   "outputs": [
    {
     "output_type": "stream",
     "name": "stdout",
     "text": [
      "tf.Tensor([1 3], shape=(2,), dtype=int32)\n"
     ]
    }
   ],
   "source": [
    "t2 = tf.constant([1, 3])\n",
    "print(t2)"
   ]
  },
  {
   "cell_type": "code",
   "execution_count": 6,
   "metadata": {},
   "outputs": [
    {
     "output_type": "stream",
     "name": "stdout",
     "text": [
      "tf.Tensor([1 2 3], shape=(3,), dtype=int32)\n"
     ]
    }
   ],
   "source": [
    "import numpy as np\n",
    "t3 = np.array([1, 2, 3])\n",
    "t4 = tf.convert_to_tensor(t3)\n",
    "print(t4)"
   ]
  },
  {
   "cell_type": "code",
   "execution_count": 7,
   "metadata": {},
   "outputs": [
    {
     "output_type": "stream",
     "name": "stdout",
     "text": [
      "tf.Tensor(\n[[0 0 0]\n [0 0 0]], shape=(2, 3), dtype=int32)\n"
     ]
    }
   ],
   "source": [
    "t5 = tf.zeros([2, 3], tf.int32)\n",
    "print(t5)"
   ]
  },
  {
   "cell_type": "code",
   "execution_count": 8,
   "metadata": {},
   "outputs": [
    {
     "output_type": "stream",
     "name": "stdout",
     "text": [
      "tf.Tensor(\n[[1 1 1]\n [1 1 1]], shape=(2, 3), dtype=int32)\n"
     ]
    }
   ],
   "source": [
    "t6 = tf.ones([2, 3], tf.int32)\n",
    "print(t6)"
   ]
  },
  {
   "cell_type": "code",
   "execution_count": 9,
   "metadata": {},
   "outputs": [
    {
     "output_type": "stream",
     "name": "stdout",
     "text": [
      "tf.Tensor([2.   2.75 3.5  4.25 5.  ], shape=(5,), dtype=float32)\n"
     ]
    }
   ],
   "source": [
    "t7 = tf.linspace(2.0, 5.0, 5)\n",
    "print(t7)"
   ]
  },
  {
   "cell_type": "code",
   "execution_count": 10,
   "metadata": {},
   "outputs": [
    {
     "output_type": "stream",
     "name": "stdout",
     "text": [
      "tf.Tensor([2.   2.75 3.5  4.25], shape=(4,), dtype=float32)\n"
     ]
    }
   ],
   "source": [
    "t8 = tf.range(2.0, 5.0, 0.75)\n",
    "print(t8)"
   ]
  },
  {
   "cell_type": "code",
   "execution_count": 6,
   "metadata": {},
   "outputs": [
    {
     "output_type": "stream",
     "name": "stdout",
     "text": [
      "<tf.Variable 'XyZ:0' shape=(2, 3) dtype=int32, numpy=\narray([[1, 1, 1],\n       [1, 1, 1]])>\n"
     ]
    }
   ],
   "source": [
    "t9 = tf.Variable(t6, name='XyZ')\n",
    "print(t9)"
   ]
  },
  {
   "cell_type": "code",
   "execution_count": 11,
   "metadata": {},
   "outputs": [
    {
     "output_type": "stream",
     "name": "stdout",
     "text": [
      "tf.Tensor(b'123 abc', shape=(), dtype=string)\n"
     ]
    }
   ],
   "source": [
    "t10 = tf.constant(\"123 abc\")\n",
    "print(t10)"
   ]
  },
  {
   "cell_type": "code",
   "execution_count": null,
   "metadata": {},
   "outputs": [],
   "source": []
  }
 ]
}